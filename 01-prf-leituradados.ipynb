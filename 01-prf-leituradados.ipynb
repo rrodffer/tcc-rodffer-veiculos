{
 "cells": [
  {
   "cell_type": "code",
   "execution_count": 1,
   "metadata": {},
   "outputs": [],
   "source": [
    "import pandas as pd\n",
    "import os\n",
    "from pymongo import MongoClient\n",
    "import unicodedata\n",
    "import re"
   ]
  },
  {
   "cell_type": "code",
   "execution_count": 2,
   "metadata": {},
   "outputs": [
    {
     "name": "stdout",
     "output_type": "stream",
     "text": [
      "173199 documentos inseridos com sucesso!\n",
      "148935 documentos inseridos com sucesso!\n",
      "98476 documentos inseridos com sucesso!\n",
      "66849 documentos inseridos com sucesso!\n",
      "176225 documentos inseridos com sucesso!\n",
      "140210 documentos inseridos com sucesso!\n",
      "137490 documentos inseridos com sucesso!\n",
      "124404 documentos inseridos com sucesso!\n",
      "126997 documentos inseridos com sucesso!\n",
      "130747 documentos inseridos com sucesso!\n",
      "141811 documentos inseridos com sucesso!\n"
     ]
    }
   ],
   "source": [
    "folder_path = \"data/prf\"\n",
    "dfs = []\n",
    "\n",
    "def split_marca_modelo(value):\n",
    "    if isinstance(value, str) and '/' in value:\n",
    "        return value.split('/', 1)  # Retorna uma lista com duas partes\n",
    "    return [value, None]  # Retorna a marca e None para modelo se não houver barra\n",
    "\n",
    "def normalize_string(s):\n",
    "    # Remove acentos\n",
    "    s = unicodedata.normalize('NFKD', s).encode('ASCII', 'ignore').decode('utf-8')\n",
    "    # Transforma em minúsculas\n",
    "    s = s.lower()\n",
    "    # Substitui espaços e caracteres especiais por underscores\n",
    "    s = re.sub(r'[^a-z0-9]+', '_', s)\n",
    "    # Remove underscores do início e do fim\n",
    "    s = s.strip('_')\n",
    "    return s\n",
    "\n",
    "\n",
    "def detect_delimiter(file_path):\n",
    "    with open(file_path, 'r', encoding='ISO-8859-1') as file:\n",
    "        first_line = file.readline()\n",
    "        if ',' in first_line and ';' not in first_line:\n",
    "            return ','\n",
    "        elif ';' in first_line and ',' not in first_line:\n",
    "            return ';'\n",
    "        else:\n",
    "            raise ValueError(\"Delimitador não identificado no arquivo: \" + file_path)\n",
    "\n",
    "for file_name in os.listdir(folder_path):\n",
    "    file_path = os.path.join(folder_path, file_name)\n",
    "    \n",
    "    if file_name.endswith('.csv'):\n",
    "        try:\n",
    "            delimiter = detect_delimiter(file_path)\n",
    "            new_df = pd.read_csv(file_path, delimiter=delimiter, encoding='ISO-8859-1', low_memory=False)\n",
    "\n",
    "            new_df.replace(\"Não Informado\", pd.NA, inplace=True)\n",
    "            new_df.replace(\"Ignorado\", pd.NA, inplace=True)\n",
    "            new_df = new_df[new_df['ano_fabricacao_veiculo'] != 0]\n",
    "            new_df = new_df[new_df['idade'] < 100]\n",
    "            new_df = new_df[new_df['idade'] > 0]\n",
    "\n",
    "            new_df[['marca_veiculo', 'modelo_veiculo']] = new_df['marca'].apply(split_marca_modelo).apply(pd.Series)\n",
    "\n",
    "            new_df = new_df.dropna()\n",
    "\n",
    "            col_to_normalize = [\"dia_semana\", \"municipio\", \"causa_acidente\", \"marca\",\n",
    "                                \"tipo_acidente\", \"classificacao_acidente\", \"fase_dia\",\n",
    "                                \"sentido_via\", \"condicao_metereologica\", \"tipo_pista\",\n",
    "                                \"tracado_via\", \"uso_solo\", \"tipo_veiculo\", \"tipo_envolvido\",\n",
    "                                \"estado_fisico\", \"sexo\", \"regional\", \"delegacia\", \"uop\", \"nacionalidade\", \"naturalidade\"\n",
    "                                ]\n",
    "\n",
    "            for coluna in col_to_normalize:\n",
    "                if coluna in new_df.columns:\n",
    "                    new_df[coluna] = new_df[coluna].apply(normalize_string)\n",
    "\n",
    "            client = MongoClient('mongodb://localhost:27017/')\n",
    "            db = client['data_science']\n",
    "            collection = db['prf']\n",
    "\n",
    "            documents = new_df.to_dict(orient='records')\n",
    "            if documents:\n",
    "                collection.insert_many(documents)\n",
    "\n",
    "            print(f\"{len(documents)} documentos inseridos com sucesso!\")\n",
    "\n",
    "            dfs.append(new_df)\n",
    "        except Exception as e:\n",
    "            print(f\"Erro ao processar o arquivo {file_name}: {e}\")\n",
    "\n",
    "df = pd.concat(dfs, ignore_index=True)"
   ]
  }
 ],
 "metadata": {
  "kernelspec": {
   "display_name": "Python 3",
   "language": "python",
   "name": "python3"
  },
  "language_info": {
   "codemirror_mode": {
    "name": "ipython",
    "version": 3
   },
   "file_extension": ".py",
   "mimetype": "text/x-python",
   "name": "python",
   "nbconvert_exporter": "python",
   "pygments_lexer": "ipython3",
   "version": "3.13.0"
  }
 },
 "nbformat": 4,
 "nbformat_minor": 2
}
