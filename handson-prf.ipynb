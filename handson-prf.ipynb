{
 "cells": [
  {
   "cell_type": "code",
   "execution_count": 1,
   "metadata": {},
   "outputs": [],
   "source": [
    "# Python ≥3.5 is required\n",
    "import sys\n",
    "assert sys.version_info >= (3, 5)\n",
    "\n",
    "# Scikit-Learn ≥0.20 is required\n",
    "import sklearn\n",
    "assert sklearn.__version__ >= \"0.20\"\n",
    "\n",
    "# Common imports\n",
    "import numpy as np\n",
    "import os\n",
    "\n",
    "# To plot pretty figures\n",
    "%matplotlib inline\n",
    "import matplotlib as mpl\n",
    "import matplotlib.pyplot as plt\n",
    "mpl.rc('axes', labelsize=14)\n",
    "mpl.rc('xtick', labelsize=12)\n",
    "mpl.rc('ytick', labelsize=12)\n",
    "\n",
    "# Where to save the figures\n",
    "PROJECT_ROOT_DIR = \".\"\n",
    "CHAPTER_ID = \"ml_prf_project\"\n",
    "IMAGES_PATH = os.path.join(PROJECT_ROOT_DIR, \"images\", CHAPTER_ID)\n",
    "os.makedirs(IMAGES_PATH, exist_ok=True)\n",
    "\n",
    "def save_fig(fig_id, tight_layout=True, fig_extension=\"png\", resolution=300):\n",
    "    path = os.path.join(IMAGES_PATH, fig_id + \".\" + fig_extension)\n",
    "    print(\"Saving figure\", fig_id)\n",
    "    if tight_layout:\n",
    "        plt.tight_layout()\n",
    "    plt.savefig(path, format=fig_extension, dpi=resolution)"
   ]
  },
  {
   "cell_type": "markdown",
   "metadata": {},
   "source": [
    "### Preparacao dos dados"
   ]
  },
  {
   "cell_type": "code",
   "execution_count": 2,
   "metadata": {},
   "outputs": [],
   "source": [
    "import pandas as pd\n",
    "\n",
    "df_prf_1723 = pd.read_json(\"data/acidentes2017-2023.json\")"
   ]
  },
  {
   "cell_type": "code",
   "execution_count": 3,
   "metadata": {},
   "outputs": [
    {
     "data": {
      "text/html": [
       "<div>\n",
       "<style scoped>\n",
       "    .dataframe tbody tr th:only-of-type {\n",
       "        vertical-align: middle;\n",
       "    }\n",
       "\n",
       "    .dataframe tbody tr th {\n",
       "        vertical-align: top;\n",
       "    }\n",
       "\n",
       "    .dataframe thead th {\n",
       "        text-align: right;\n",
       "    }\n",
       "</style>\n",
       "<table border=\"1\" class=\"dataframe\">\n",
       "  <thead>\n",
       "    <tr style=\"text-align: right;\">\n",
       "      <th></th>\n",
       "      <th>data_inversa</th>\n",
       "      <th>dia_semana</th>\n",
       "      <th>horario</th>\n",
       "      <th>uf</th>\n",
       "      <th>br</th>\n",
       "      <th>km</th>\n",
       "      <th>municipio</th>\n",
       "      <th>causa_acidente</th>\n",
       "      <th>tipo_acidente</th>\n",
       "      <th>classificacao_acidente</th>\n",
       "      <th>...</th>\n",
       "      <th>idade</th>\n",
       "      <th>sexo</th>\n",
       "      <th>marca_veiculo</th>\n",
       "      <th>modelo_veiculo</th>\n",
       "      <th>ilesos</th>\n",
       "      <th>feridos_leves</th>\n",
       "      <th>feridos_graves</th>\n",
       "      <th>mortos</th>\n",
       "      <th>latitude</th>\n",
       "      <th>longitude</th>\n",
       "    </tr>\n",
       "  </thead>\n",
       "  <tbody>\n",
       "    <tr>\n",
       "      <th>0</th>\n",
       "      <td>2017-01-01</td>\n",
       "      <td>domingo</td>\n",
       "      <td>01:45:00</td>\n",
       "      <td>RS</td>\n",
       "      <td>116</td>\n",
       "      <td>34,9</td>\n",
       "      <td>vacaria</td>\n",
       "      <td>defeito_mecanico_no_veiculo</td>\n",
       "      <td>colisao_traseira</td>\n",
       "      <td>com_vitimas_feridas</td>\n",
       "      <td>...</td>\n",
       "      <td>31</td>\n",
       "      <td>masculino</td>\n",
       "      <td>VW</td>\n",
       "      <td>17.280 CRM 4X2 4P</td>\n",
       "      <td>1</td>\n",
       "      <td>0</td>\n",
       "      <td>0</td>\n",
       "      <td>0</td>\n",
       "      <td>-28,5071196</td>\n",
       "      <td>-50,941176</td>\n",
       "    </tr>\n",
       "    <tr>\n",
       "      <th>1</th>\n",
       "      <td>2017-01-01</td>\n",
       "      <td>domingo</td>\n",
       "      <td>01:00:00</td>\n",
       "      <td>PR</td>\n",
       "      <td>376</td>\n",
       "      <td>636</td>\n",
       "      <td>tijucas_do_sul</td>\n",
       "      <td>velocidade_incompativel</td>\n",
       "      <td>saida_de_leito_carrocavel</td>\n",
       "      <td>com_vitimas_fatais</td>\n",
       "      <td>...</td>\n",
       "      <td>28</td>\n",
       "      <td>masculino</td>\n",
       "      <td>M.BENZ</td>\n",
       "      <td>ATEGO 2430</td>\n",
       "      <td>1</td>\n",
       "      <td>0</td>\n",
       "      <td>0</td>\n",
       "      <td>0</td>\n",
       "      <td>-25,754</td>\n",
       "      <td>-49,1266</td>\n",
       "    </tr>\n",
       "    <tr>\n",
       "      <th>2</th>\n",
       "      <td>2017-01-01</td>\n",
       "      <td>domingo</td>\n",
       "      <td>04:40:00</td>\n",
       "      <td>BA</td>\n",
       "      <td>101</td>\n",
       "      <td>65</td>\n",
       "      <td>entre_rios</td>\n",
       "      <td>condutor_dormindo</td>\n",
       "      <td>colisao_frontal</td>\n",
       "      <td>com_vitimas_fatais</td>\n",
       "      <td>...</td>\n",
       "      <td>53</td>\n",
       "      <td>masculino</td>\n",
       "      <td>SCANIA</td>\n",
       "      <td>G 380 A4X2</td>\n",
       "      <td>1</td>\n",
       "      <td>0</td>\n",
       "      <td>0</td>\n",
       "      <td>0</td>\n",
       "      <td>-11,9618</td>\n",
       "      <td>-38,0953</td>\n",
       "    </tr>\n",
       "    <tr>\n",
       "      <th>3</th>\n",
       "      <td>2017-01-01</td>\n",
       "      <td>domingo</td>\n",
       "      <td>07:40:00</td>\n",
       "      <td>RN</td>\n",
       "      <td>405</td>\n",
       "      <td>30</td>\n",
       "      <td>mossoro</td>\n",
       "      <td>ingestao_de_alcool</td>\n",
       "      <td>colisao_frontal</td>\n",
       "      <td>com_vitimas_fatais</td>\n",
       "      <td>...</td>\n",
       "      <td>44</td>\n",
       "      <td>masculino</td>\n",
       "      <td>SCANIA</td>\n",
       "      <td>R 480 A6X4</td>\n",
       "      <td>1</td>\n",
       "      <td>0</td>\n",
       "      <td>0</td>\n",
       "      <td>0</td>\n",
       "      <td>-5,3136</td>\n",
       "      <td>-37,569</td>\n",
       "    </tr>\n",
       "    <tr>\n",
       "      <th>4</th>\n",
       "      <td>2017-01-01</td>\n",
       "      <td>domingo</td>\n",
       "      <td>10:35:00</td>\n",
       "      <td>PR</td>\n",
       "      <td>376</td>\n",
       "      <td>249,5</td>\n",
       "      <td>apucarana</td>\n",
       "      <td>nao_guardar_distancia_de_seguranca</td>\n",
       "      <td>colisao_traseira</td>\n",
       "      <td>com_vitimas_feridas</td>\n",
       "      <td>...</td>\n",
       "      <td>56</td>\n",
       "      <td>masculino</td>\n",
       "      <td>FORD</td>\n",
       "      <td>CARGO 1723</td>\n",
       "      <td>1</td>\n",
       "      <td>0</td>\n",
       "      <td>0</td>\n",
       "      <td>0</td>\n",
       "      <td>-23,61073749</td>\n",
       "      <td>-51,39895052</td>\n",
       "    </tr>\n",
       "  </tbody>\n",
       "</table>\n",
       "<p>5 rows × 32 columns</p>\n",
       "</div>"
      ],
      "text/plain": [
       "  data_inversa dia_semana   horario  uf   br     km       municipio  \\\n",
       "0   2017-01-01    domingo  01:45:00  RS  116   34,9         vacaria   \n",
       "1   2017-01-01    domingo  01:00:00  PR  376    636  tijucas_do_sul   \n",
       "2   2017-01-01    domingo  04:40:00  BA  101     65      entre_rios   \n",
       "3   2017-01-01    domingo  07:40:00  RN  405     30         mossoro   \n",
       "4   2017-01-01    domingo  10:35:00  PR  376  249,5       apucarana   \n",
       "\n",
       "                       causa_acidente              tipo_acidente  \\\n",
       "0         defeito_mecanico_no_veiculo           colisao_traseira   \n",
       "1             velocidade_incompativel  saida_de_leito_carrocavel   \n",
       "2                   condutor_dormindo            colisao_frontal   \n",
       "3                  ingestao_de_alcool            colisao_frontal   \n",
       "4  nao_guardar_distancia_de_seguranca           colisao_traseira   \n",
       "\n",
       "  classificacao_acidente  ... idade       sexo marca_veiculo  \\\n",
       "0    com_vitimas_feridas  ...    31  masculino            VW   \n",
       "1     com_vitimas_fatais  ...    28  masculino        M.BENZ   \n",
       "2     com_vitimas_fatais  ...    53  masculino        SCANIA   \n",
       "3     com_vitimas_fatais  ...    44  masculino        SCANIA   \n",
       "4    com_vitimas_feridas  ...    56  masculino          FORD   \n",
       "\n",
       "      modelo_veiculo ilesos feridos_leves  feridos_graves mortos  \\\n",
       "0  17.280 CRM 4X2 4P      1             0               0      0   \n",
       "1         ATEGO 2430      1             0               0      0   \n",
       "2         G 380 A4X2      1             0               0      0   \n",
       "3         R 480 A6X4      1             0               0      0   \n",
       "4         CARGO 1723      1             0               0      0   \n",
       "\n",
       "       latitude     longitude  \n",
       "0   -28,5071196    -50,941176  \n",
       "1       -25,754      -49,1266  \n",
       "2      -11,9618      -38,0953  \n",
       "3       -5,3136       -37,569  \n",
       "4  -23,61073749  -51,39895052  \n",
       "\n",
       "[5 rows x 32 columns]"
      ]
     },
     "execution_count": 3,
     "metadata": {},
     "output_type": "execute_result"
    }
   ],
   "source": [
    "df_prf_1723.head()"
   ]
  },
  {
   "cell_type": "code",
   "execution_count": 4,
   "metadata": {},
   "outputs": [
    {
     "name": "stdout",
     "output_type": "stream",
     "text": [
      "<class 'pandas.core.frame.DataFrame'>\n",
      "RangeIndex: 977884 entries, 0 to 977883\n",
      "Data columns (total 32 columns):\n",
      " #   Column                  Non-Null Count   Dtype \n",
      "---  ------                  --------------   ----- \n",
      " 0   data_inversa            977884 non-null  object\n",
      " 1   dia_semana              977884 non-null  object\n",
      " 2   horario                 977884 non-null  object\n",
      " 3   uf                      977884 non-null  object\n",
      " 4   br                      977884 non-null  int64 \n",
      " 5   km                      977884 non-null  object\n",
      " 6   municipio               977884 non-null  object\n",
      " 7   causa_acidente          977884 non-null  object\n",
      " 8   tipo_acidente           977884 non-null  object\n",
      " 9   classificacao_acidente  977884 non-null  object\n",
      " 10  fase_dia                977884 non-null  object\n",
      " 11  sentido_via             977884 non-null  object\n",
      " 12  condicao_metereologica  977884 non-null  object\n",
      " 13  tipo_pista              977884 non-null  object\n",
      " 14  tracado_via             977884 non-null  object\n",
      " 15  uso_solo                977884 non-null  object\n",
      " 16  id_veiculo              977884 non-null  int64 \n",
      " 17  tipo_veiculo            977884 non-null  object\n",
      " 18  marca                   977884 non-null  object\n",
      " 19  ano_fabricacao_veiculo  977884 non-null  int64 \n",
      " 20  tipo_envolvido          977884 non-null  object\n",
      " 21  estado_fisico           977884 non-null  object\n",
      " 22  idade                   977884 non-null  int64 \n",
      " 23  sexo                    977884 non-null  object\n",
      " 24  marca_veiculo           977884 non-null  object\n",
      " 25  modelo_veiculo          977534 non-null  object\n",
      " 26  ilesos                  977884 non-null  int64 \n",
      " 27  feridos_leves           977884 non-null  int64 \n",
      " 28  feridos_graves          977884 non-null  int64 \n",
      " 29  mortos                  977884 non-null  int64 \n",
      " 30  latitude                977884 non-null  object\n",
      " 31  longitude               977884 non-null  object\n",
      "dtypes: int64(8), object(24)\n",
      "memory usage: 238.7+ MB\n"
     ]
    }
   ],
   "source": [
    "df_prf_1723.info()"
   ]
  },
  {
   "cell_type": "code",
   "execution_count": 5,
   "metadata": {},
   "outputs": [],
   "source": [
    "def definir_gravidade(row):\n",
    "    if row['mortos'] > 0:\n",
    "        return \"mortos\"\n",
    "    elif row['feridos_graves'] > 0:\n",
    "        return \"feridos_graves\"\n",
    "    elif row['feridos_leves'] > 0:\n",
    "        return \"feridos_leves\"\n",
    "    else:\n",
    "        return \"ilesos\""
   ]
  },
  {
   "cell_type": "code",
   "execution_count": 6,
   "metadata": {},
   "outputs": [],
   "source": [
    "df_prf_1723['gravidade_acidente'] = df_prf_1723.apply(definir_gravidade, axis=1)\n",
    "\n",
    "df_prf_1723 = df_prf_1723.dropna(subset=['ilesos', 'feridos_leves', 'feridos_graves', 'mortos'])\n",
    "df_prf_1723 = df_prf_1723.drop(['estado_fisico', 'horario', 'data_inversa', 'uso_solo','modelo_veiculo','id_veiculo', 'classificacao_acidente', 'ilesos', 'feridos_leves', 'feridos_graves', 'mortos'], axis=1)\n",
    "df_prf_1723 = df_prf_1723.dropna()"
   ]
  },
  {
   "cell_type": "code",
   "execution_count": 7,
   "metadata": {},
   "outputs": [
    {
     "data": {
      "text/plain": [
       "array(['ilesos', 'feridos_leves', 'mortos', 'feridos_graves'],\n",
       "      dtype=object)"
      ]
     },
     "execution_count": 7,
     "metadata": {},
     "output_type": "execute_result"
    }
   ],
   "source": [
    "df_prf_1723['gravidade_acidente'].unique()"
   ]
  },
  {
   "cell_type": "code",
   "execution_count": 8,
   "metadata": {},
   "outputs": [
    {
     "name": "stdout",
     "output_type": "stream",
     "text": [
      "<class 'pandas.core.frame.DataFrame'>\n",
      "RangeIndex: 977884 entries, 0 to 977883\n",
      "Data columns (total 22 columns):\n",
      " #   Column                  Non-Null Count   Dtype \n",
      "---  ------                  --------------   ----- \n",
      " 0   dia_semana              977884 non-null  object\n",
      " 1   uf                      977884 non-null  object\n",
      " 2   br                      977884 non-null  int64 \n",
      " 3   km                      977884 non-null  object\n",
      " 4   municipio               977884 non-null  object\n",
      " 5   causa_acidente          977884 non-null  object\n",
      " 6   tipo_acidente           977884 non-null  object\n",
      " 7   fase_dia                977884 non-null  object\n",
      " 8   sentido_via             977884 non-null  object\n",
      " 9   condicao_metereologica  977884 non-null  object\n",
      " 10  tipo_pista              977884 non-null  object\n",
      " 11  tracado_via             977884 non-null  object\n",
      " 12  tipo_veiculo            977884 non-null  object\n",
      " 13  marca                   977884 non-null  object\n",
      " 14  ano_fabricacao_veiculo  977884 non-null  int64 \n",
      " 15  tipo_envolvido          977884 non-null  object\n",
      " 16  idade                   977884 non-null  int64 \n",
      " 17  sexo                    977884 non-null  object\n",
      " 18  marca_veiculo           977884 non-null  object\n",
      " 19  latitude                977884 non-null  object\n",
      " 20  longitude               977884 non-null  object\n",
      " 21  gravidade_acidente      977884 non-null  object\n",
      "dtypes: int64(3), object(19)\n",
      "memory usage: 164.1+ MB\n"
     ]
    }
   ],
   "source": [
    "df_prf_1723.info()"
   ]
  },
  {
   "cell_type": "markdown",
   "metadata": {},
   "source": [
    "### Pre processamento"
   ]
  },
  {
   "cell_type": "code",
   "execution_count": 9,
   "metadata": {},
   "outputs": [],
   "source": [
    "def is_within_brazil(lat, lon):\n",
    "    return -33.7422 <= lat <= 5.2718 and -73.989 <= lon <= -34.793\n",
    "\n",
    "df_prf_1723['longitude'] = df_prf_1723['longitude'].str.replace(\",\", \".\").astype(float).round(6)\n",
    "df_prf_1723['latitude'] = df_prf_1723['latitude'].str.replace(\",\", \".\").astype(float).round(6)\n",
    "\n",
    "df_prf_1723 = df_prf_1723[df_prf_1723.apply(lambda row: is_within_brazil(row['latitude'], row['longitude']), axis=1)]\n",
    "df_prf_1723['km'] = df_prf_1723['km'].astype(str).str.replace(',', '.').astype(float)\n",
    "df_prf_1723['idade'] = df_prf_1723['idade'].astype(str).str.replace(',', '.').astype(float)"
   ]
  },
  {
   "cell_type": "code",
   "execution_count": 10,
   "metadata": {},
   "outputs": [],
   "source": [
    "df_processed = df_prf_1723.copy()"
   ]
  },
  {
   "cell_type": "code",
   "execution_count": 12,
   "metadata": {},
   "outputs": [
    {
     "data": {
      "text/plain": [
       "((782222, 21), (195556, 21), (782222,), (195556,))"
      ]
     },
     "execution_count": 12,
     "metadata": {},
     "output_type": "execute_result"
    }
   ],
   "source": [
    "# normalizar com StandardScaler km, idade, latitude, longitude ??\n",
    "# stratify=y para balancear dataset\n",
    "\n",
    "from sklearn.preprocessing import LabelEncoder, OneHotEncoder\n",
    "from sklearn.model_selection import train_test_split\n",
    "from sklearn.preprocessing import StandardScaler\n",
    "\n",
    "# Identificar variáveis categóricas\n",
    "categorical_columns = [\n",
    "    'dia_semana', 'uf', 'municipio', 'causa_acidente', 'tipo_acidente', \n",
    "    'fase_dia', 'sentido_via', 'condicao_metereologica', 'tipo_pista', \n",
    "    'tracado_via', 'tipo_veiculo', 'marca_veiculo', 'sexo',\n",
    "    'marca', 'tipo_envolvido'\n",
    "]\n",
    "\n",
    "# Codificação de variáveis categóricas\n",
    "label_encoders = {}\n",
    "for col in categorical_columns:\n",
    "    le = LabelEncoder()\n",
    "    df_processed[col] = le.fit_transform(df_processed[col])\n",
    "    label_encoders[col] = le  # Salvar o codificador para futuras previsões\n",
    "\n",
    "# Normalizar variáveis numéricas\n",
    "numerical_columns = ['km', 'idade', 'latitude', 'longitude']\n",
    "scaler = StandardScaler()\n",
    "df_processed[numerical_columns] = scaler.fit_transform(df_processed[numerical_columns])\n",
    "\n",
    "# Separar variáveis independentes (X) e variável alvo (y)\n",
    "X = df_processed.drop(columns=['gravidade_acidente'])\n",
    "y = df_processed['gravidade_acidente']\n",
    "\n",
    "# Converter a variável-alvo para valores numéricos\n",
    "le_target = LabelEncoder()\n",
    "y = le_target.fit_transform(y)\n",
    "\n",
    "# Converter a variável-alvo para numérico\n",
    "df_processed['gravidade_acidente'] = le_target.fit_transform(df_processed['gravidade_acidente'])\n",
    "\n",
    "# Dividir os dados em treino e teste (80% treino, 20% teste)\n",
    "X_train, X_test, y_train, y_test = train_test_split(X, y, test_size=0.2, stratify=y, random_state=42)\n",
    "\n",
    "# Exibir o tamanho das divisões\n",
    "X_train.shape, X_test.shape, y_train.shape, y_test.shape\n"
   ]
  },
  {
   "cell_type": "code",
   "execution_count": 13,
   "metadata": {},
   "outputs": [
    {
     "data": {
      "text/plain": [
       "('                precision    recall  f1-score   support\\n\\nferidos_graves       0.46      0.12      0.20     20913\\n feridos_leves       0.63      0.69      0.66     73949\\n        ilesos       0.75      0.85      0.79     94889\\n        mortos       0.44      0.11      0.17      5805\\n\\n      accuracy                           0.69    195556\\n     macro avg       0.57      0.44      0.45    195556\\n  weighted avg       0.66      0.69      0.66    195556\\n',\n",
       " array([[ 2598, 13034,  4807,   474],\n",
       "        [ 1842, 50714, 21146,   247],\n",
       "        [  388, 13827, 80608,    66],\n",
       "        [  804,  2751,  1631,   619]], dtype=int64))"
      ]
     },
     "execution_count": 13,
     "metadata": {},
     "output_type": "execute_result"
    }
   ],
   "source": [
    "from sklearn.ensemble import RandomForestClassifier\n",
    "from sklearn.metrics import classification_report, confusion_matrix\n",
    "\n",
    "# Treinar um modelo Random Forest\n",
    "rf_model = RandomForestClassifier(n_estimators=100, random_state=42, class_weight='balanced')\n",
    "rf_model.fit(X_train, y_train)\n",
    "\n",
    "# Fazer previsões no conjunto de teste\n",
    "y_pred = rf_model.predict(X_test)\n",
    "\n",
    "# Avaliar o modelo\n",
    "report = classification_report(y_test, y_pred, target_names=le_target.classes_)\n",
    "conf_matrix = confusion_matrix(y_test, y_pred)\n",
    "\n",
    "# Exibir resultados\n",
    "report, conf_matrix\n"
   ]
  },
  {
   "cell_type": "code",
   "execution_count": 14,
   "metadata": {},
   "outputs": [
    {
     "data": {
      "text/plain": [
       "'                precision    recall  f1-score   support\\n\\nferidos_graves       0.46      0.12      0.20     20913\\n feridos_leves       0.63      0.69      0.66     73949\\n        ilesos       0.75      0.85      0.79     94889\\n        mortos       0.44      0.11      0.17      5805\\n\\n      accuracy                           0.69    195556\\n     macro avg       0.57      0.44      0.45    195556\\n  weighted avg       0.66      0.69      0.66    195556\\n'"
      ]
     },
     "execution_count": 14,
     "metadata": {},
     "output_type": "execute_result"
    }
   ],
   "source": [
    "report"
   ]
  },
  {
   "cell_type": "code",
   "execution_count": null,
   "metadata": {},
   "outputs": [],
   "source": [
    "report"
   ]
  },
  {
   "cell_type": "code",
   "execution_count": null,
   "metadata": {},
   "outputs": [],
   "source": [
    "from imblearn.over_sampling import SMOTE\n",
    "\n",
    "# Aplicar SMOTE para balancear as classes\n",
    "smote = SMOTE(random_state=42)\n",
    "X_resampled, y_resampled = smote.fit_resample(X_train, y_train)\n",
    "\n",
    "# Treinar novamente o Random Forest com os dados balanceados\n",
    "rf_model_smote = RandomForestClassifier(n_estimators=100, random_state=42, class_weight='balanced')\n",
    "rf_model_smote.fit(X_resampled, y_resampled)\n",
    "\n",
    "# Fazer previsões no conjunto de teste\n",
    "y_pred_smote = rf_model_smote.predict(X_test)\n",
    "\n",
    "# Avaliar o modelo após SMOTE\n",
    "report_smote = classification_report(y_test, y_pred_smote, target_names=le_target.classes_)\n",
    "conf_matrix_smote = confusion_matrix(y_test, y_pred_smote)\n",
    "\n",
    "# Exibir os resultados\n",
    "report_smote, conf_matrix_smote\n"
   ]
  },
  {
   "cell_type": "code",
   "execution_count": null,
   "metadata": {},
   "outputs": [],
   "source": [
    "%matplotlib inline\n",
    "import matplotlib.pyplot as plt\n",
    "df_prf_1723.hist(bins=50, figsize=(20,15))\n",
    "save_fig(\"attribute_histogram_plots\")\n",
    "plt.show()"
   ]
  },
  {
   "cell_type": "markdown",
   "metadata": {},
   "source": [
    "### Create a Test Set"
   ]
  },
  {
   "cell_type": "code",
   "execution_count": 64,
   "metadata": {},
   "outputs": [],
   "source": [
    "# to make this notebook's output identical at every run\n",
    "np.random.seed(42)"
   ]
  },
  {
   "cell_type": "code",
   "execution_count": 65,
   "metadata": {},
   "outputs": [],
   "source": [
    "import numpy as np\n",
    "\n",
    "# For illustration only. Sklearn has train_test_split()\n",
    "def split_train_test(data, test_ratio):\n",
    "    shuffled_indices = np.random.permutation(len(data))\n",
    "    test_set_size = int(len(data) * test_ratio)\n",
    "    test_indices = shuffled_indices[:test_set_size]\n",
    "    train_indices = shuffled_indices[test_set_size:]\n",
    "    return data.iloc[train_indices], data.iloc[test_indices]"
   ]
  },
  {
   "cell_type": "code",
   "execution_count": null,
   "metadata": {},
   "outputs": [],
   "source": [
    "train_set, test_set = split_train_test(df_prf_1723, 0.2)\n",
    "len(train_set)"
   ]
  },
  {
   "cell_type": "code",
   "execution_count": null,
   "metadata": {},
   "outputs": [],
   "source": [
    "len(test_set)"
   ]
  },
  {
   "cell_type": "code",
   "execution_count": 68,
   "metadata": {},
   "outputs": [],
   "source": [
    "from zlib import crc32\n",
    "\n",
    "def test_set_check(identifier, test_ratio):\n",
    "    return crc32(np.int64(identifier)) & 0xffffffff < test_ratio * 2**32\n",
    "\n",
    "def split_train_test_by_id(data, test_ratio, id_column):\n",
    "    ids = data[id_column]\n",
    "    in_test_set = ids.apply(lambda id_: test_set_check(id_, test_ratio))\n",
    "    return data.loc[~in_test_set], data.loc[in_test_set]"
   ]
  },
  {
   "cell_type": "code",
   "execution_count": 69,
   "metadata": {},
   "outputs": [],
   "source": [
    "import hashlib\n",
    "\n",
    "def test_set_check(identifier, test_ratio, hash=hashlib.md5):\n",
    "    return hash(np.int64(identifier)).digest()[-1] < 256 * test_ratio"
   ]
  },
  {
   "cell_type": "code",
   "execution_count": 70,
   "metadata": {},
   "outputs": [],
   "source": [
    "def test_set_check(identifier, test_ratio, hash=hashlib.md5):\n",
    "    return bytearray(hash(np.int64(identifier)).digest())[-1] < 256 * test_ratio"
   ]
  },
  {
   "cell_type": "code",
   "execution_count": 71,
   "metadata": {},
   "outputs": [],
   "source": [
    "accident_with_id = df_prf_1723.reset_index()   # adds an `index` column\n",
    "train_set, test_set = split_train_test_by_id(accident_with_id, 0.2, \"index\")"
   ]
  },
  {
   "cell_type": "code",
   "execution_count": 75,
   "metadata": {},
   "outputs": [],
   "source": [
    "accident_with_id.dropna(subset=[\"id\"], inplace=True)"
   ]
  },
  {
   "cell_type": "code",
   "execution_count": 76,
   "metadata": {},
   "outputs": [],
   "source": [
    "accident_with_id[\"id\"] = df_prf_1723[\"longitude\"] * 1000 + df_prf_1723[\"latitude\"]\n",
    "train_set, test_set = split_train_test_by_id(accident_with_id, 0.2, \"id\")"
   ]
  },
  {
   "cell_type": "code",
   "execution_count": null,
   "metadata": {},
   "outputs": [],
   "source": [
    "test_set.head()"
   ]
  },
  {
   "cell_type": "code",
   "execution_count": 78,
   "metadata": {},
   "outputs": [],
   "source": [
    "from sklearn.model_selection import train_test_split\n",
    "\n",
    "train_set, test_set = train_test_split(df_prf_1723, test_size=0.2, random_state=42)"
   ]
  },
  {
   "cell_type": "code",
   "execution_count": null,
   "metadata": {},
   "outputs": [],
   "source": [
    "test_set.head()"
   ]
  },
  {
   "cell_type": "markdown",
   "metadata": {},
   "source": [
    "### Discover and Visualize the Data to Gain Insights\n"
   ]
  },
  {
   "cell_type": "code",
   "execution_count": null,
   "metadata": {},
   "outputs": [],
   "source": [
    "df_prf_1723.plot(kind=\"scatter\", x=\"longitude\", y=\"latitude\")\n",
    "save_fig(\"bad_visualization_plot\")"
   ]
  },
  {
   "cell_type": "code",
   "execution_count": null,
   "metadata": {},
   "outputs": [],
   "source": [
    "df_prf_1723.plot(kind=\"scatter\", x=\"longitude\", y=\"latitude\", alpha=0.1)\n",
    "save_fig(\"better_visualization_plot\")"
   ]
  },
  {
   "cell_type": "code",
   "execution_count": null,
   "metadata": {},
   "outputs": [],
   "source": [
    "df_prf_1723.plot(kind=\"scatter\", x=\"longitude\", y=\"latitude\", alpha=0.4,\n",
    "             s=df_prf_1723[\"mortos\"]/100, label=\"mortos\", figsize=(10,7),\n",
    "             c=\"idade\", cmap=plt.get_cmap(\"jet\"), colorbar=True,\n",
    "             sharex=False)\n",
    "plt.legend()\n",
    "save_fig(\"housing_prices_scatterplot\")"
   ]
  }
 ],
 "metadata": {
  "kernelspec": {
   "display_name": "base",
   "language": "python",
   "name": "python3"
  },
  "language_info": {
   "codemirror_mode": {
    "name": "ipython",
    "version": 3
   },
   "file_extension": ".py",
   "mimetype": "text/x-python",
   "name": "python",
   "nbconvert_exporter": "python",
   "pygments_lexer": "ipython3",
   "version": "3.12.7"
  }
 },
 "nbformat": 4,
 "nbformat_minor": 2
}
